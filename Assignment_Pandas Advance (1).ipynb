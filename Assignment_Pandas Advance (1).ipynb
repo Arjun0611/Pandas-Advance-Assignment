{
 "cells": [
  {
   "cell_type": "code",
   "execution_count": 1,
   "id": "ccdd3118-7184-45ba-85e7-e25dfbaab6e1",
   "metadata": {},
   "outputs": [],
   "source": [
    "import pandas as pd"
   ]
  },
  {
   "cell_type": "code",
   "execution_count": 2,
   "id": "555cb7b3-27f0-4eac-8aba-694a8088aa8d",
   "metadata": {},
   "outputs": [],
   "source": [
    "#Q1.\n",
    "data = {\n",
    "'Name' : ['Alice', 'Bob', 'Claire', 'David', 'Emma'],\n",
    "'Age': [25, 30, 27, 22, 28],\n",
    "'Gender': ['Female', 'Male', 'Female', 'Male', 'Female'],\n",
    "'Salary': [50000, 60000, 55000, 45000, 70000],\n",
    "'Department': ['HR', 'IT', 'HR', 'IT', 'Finance']\n",
    "}\n",
    "df = pd.DataFrame(data)"
   ]
  },
  {
   "cell_type": "code",
   "execution_count": 4,
   "id": "a3c318e8-7341-400e-a124-7cfe5a12567f",
   "metadata": {},
   "outputs": [
    {
     "name": "stdout",
     "output_type": "stream",
     "text": [
      "<class 'pandas.core.frame.DataFrame'>\n",
      "RangeIndex: 5 entries, 0 to 4\n",
      "Data columns (total 5 columns):\n",
      " #   Column      Non-Null Count  Dtype \n",
      "---  ------      --------------  ----- \n",
      " 0   Name        5 non-null      object\n",
      " 1   Age         5 non-null      int64 \n",
      " 2   Gender      5 non-null      object\n",
      " 3   Salary      5 non-null      int64 \n",
      " 4   Department  5 non-null      object\n",
      "dtypes: int64(2), object(3)\n",
      "memory usage: 328.0+ bytes\n",
      "None\n"
     ]
    }
   ],
   "source": [
    "# Function-1\n",
    "print(df.info())"
   ]
  },
  {
   "cell_type": "code",
   "execution_count": 5,
   "id": "ea608a32-4b85-4c35-ba8f-6332b3697959",
   "metadata": {},
   "outputs": [
    {
     "name": "stdout",
     "output_type": "stream",
     "text": [
      "            Age        Salary\n",
      "count   5.00000      5.000000\n",
      "mean   26.40000  56000.000000\n",
      "std     3.04959   9617.692031\n",
      "min    22.00000  45000.000000\n",
      "25%    25.00000  50000.000000\n",
      "50%    27.00000  55000.000000\n",
      "75%    28.00000  60000.000000\n",
      "max    30.00000  70000.000000\n"
     ]
    }
   ],
   "source": [
    "#Function-2\n",
    "print(df.describe())"
   ]
  },
  {
   "cell_type": "code",
   "execution_count": 8,
   "id": "e26b6a7f-22c1-4873-89ee-898aae26bc26",
   "metadata": {},
   "outputs": [
    {
     "name": "stdout",
     "output_type": "stream",
     "text": [
      "             Age   Salary\n",
      "Department               \n",
      "Finance     28.0  70000.0\n",
      "HR          26.0  52500.0\n",
      "IT          26.0  52500.0\n"
     ]
    }
   ],
   "source": [
    "#Function-3\n",
    "grouped_data = df.groupby('Department').agg({'Age':'mean', 'Salary':'mean'})\n",
    "print(grouped_data)"
   ]
  },
  {
   "cell_type": "code",
   "execution_count": 9,
   "id": "327d689c-59bf-4c1a-88c0-f7465e529c57",
   "metadata": {},
   "outputs": [
    {
     "data": {
      "text/html": [
       "<div>\n",
       "<style scoped>\n",
       "    .dataframe tbody tr th:only-of-type {\n",
       "        vertical-align: middle;\n",
       "    }\n",
       "\n",
       "    .dataframe tbody tr th {\n",
       "        vertical-align: top;\n",
       "    }\n",
       "\n",
       "    .dataframe thead tr th {\n",
       "        text-align: left;\n",
       "    }\n",
       "\n",
       "    .dataframe thead tr:last-of-type th {\n",
       "        text-align: right;\n",
       "    }\n",
       "</style>\n",
       "<table border=\"1\" class=\"dataframe\">\n",
       "  <thead>\n",
       "    <tr>\n",
       "      <th></th>\n",
       "      <th colspan=\"3\" halign=\"left\">Age</th>\n",
       "      <th colspan=\"3\" halign=\"left\">Salary</th>\n",
       "    </tr>\n",
       "    <tr>\n",
       "      <th>Department</th>\n",
       "      <th>Finance</th>\n",
       "      <th>HR</th>\n",
       "      <th>IT</th>\n",
       "      <th>Finance</th>\n",
       "      <th>HR</th>\n",
       "      <th>IT</th>\n",
       "    </tr>\n",
       "    <tr>\n",
       "      <th>Gender</th>\n",
       "      <th></th>\n",
       "      <th></th>\n",
       "      <th></th>\n",
       "      <th></th>\n",
       "      <th></th>\n",
       "      <th></th>\n",
       "    </tr>\n",
       "  </thead>\n",
       "  <tbody>\n",
       "    <tr>\n",
       "      <th>Female</th>\n",
       "      <td>28.0</td>\n",
       "      <td>26.0</td>\n",
       "      <td>NaN</td>\n",
       "      <td>70000.0</td>\n",
       "      <td>52500.0</td>\n",
       "      <td>NaN</td>\n",
       "    </tr>\n",
       "    <tr>\n",
       "      <th>Male</th>\n",
       "      <td>NaN</td>\n",
       "      <td>NaN</td>\n",
       "      <td>26.0</td>\n",
       "      <td>NaN</td>\n",
       "      <td>NaN</td>\n",
       "      <td>52500.0</td>\n",
       "    </tr>\n",
       "  </tbody>\n",
       "</table>\n",
       "</div>"
      ],
      "text/plain": [
       "               Age               Salary                  \n",
       "Department Finance    HR    IT  Finance       HR       IT\n",
       "Gender                                                   \n",
       "Female        28.0  26.0   NaN  70000.0  52500.0      NaN\n",
       "Male           NaN   NaN  26.0      NaN      NaN  52500.0"
      ]
     },
     "execution_count": 9,
     "metadata": {},
     "output_type": "execute_result"
    }
   ],
   "source": [
    "#Function-4\n",
    "df.pivot_table(index='Gender', columns='Department', values=['Age', 'Salary'], aggfunc='mean')"
   ]
  },
  {
   "cell_type": "code",
   "execution_count": 11,
   "id": "2619a060-4fba-401c-b36f-5cca49564cc4",
   "metadata": {},
   "outputs": [
    {
     "data": {
      "text/html": [
       "<div>\n",
       "<style scoped>\n",
       "    .dataframe tbody tr th:only-of-type {\n",
       "        vertical-align: middle;\n",
       "    }\n",
       "\n",
       "    .dataframe tbody tr th {\n",
       "        vertical-align: top;\n",
       "    }\n",
       "\n",
       "    .dataframe thead th {\n",
       "        text-align: right;\n",
       "    }\n",
       "</style>\n",
       "<table border=\"1\" class=\"dataframe\">\n",
       "  <thead>\n",
       "    <tr style=\"text-align: right;\">\n",
       "      <th></th>\n",
       "      <th>Name</th>\n",
       "      <th>Age</th>\n",
       "      <th>Gender</th>\n",
       "      <th>Salary</th>\n",
       "      <th>Department</th>\n",
       "    </tr>\n",
       "  </thead>\n",
       "  <tbody>\n",
       "    <tr>\n",
       "      <th>0</th>\n",
       "      <td>Alice</td>\n",
       "      <td>25</td>\n",
       "      <td>Female</td>\n",
       "      <td>50000</td>\n",
       "      <td>HR</td>\n",
       "    </tr>\n",
       "    <tr>\n",
       "      <th>1</th>\n",
       "      <td>Bob</td>\n",
       "      <td>30</td>\n",
       "      <td>Male</td>\n",
       "      <td>60000</td>\n",
       "      <td>IT</td>\n",
       "    </tr>\n",
       "    <tr>\n",
       "      <th>2</th>\n",
       "      <td>Claire</td>\n",
       "      <td>27</td>\n",
       "      <td>Female</td>\n",
       "      <td>55000</td>\n",
       "      <td>HR</td>\n",
       "    </tr>\n",
       "    <tr>\n",
       "      <th>3</th>\n",
       "      <td>David</td>\n",
       "      <td>22</td>\n",
       "      <td>Male</td>\n",
       "      <td>45000</td>\n",
       "      <td>IT</td>\n",
       "    </tr>\n",
       "    <tr>\n",
       "      <th>4</th>\n",
       "      <td>Emma</td>\n",
       "      <td>28</td>\n",
       "      <td>Female</td>\n",
       "      <td>70000</td>\n",
       "      <td>Finance</td>\n",
       "    </tr>\n",
       "  </tbody>\n",
       "</table>\n",
       "</div>"
      ],
      "text/plain": [
       "     Name  Age  Gender  Salary Department\n",
       "0   Alice   25  Female   50000         HR\n",
       "1     Bob   30    Male   60000         IT\n",
       "2  Claire   27  Female   55000         HR\n",
       "3   David   22    Male   45000         IT\n",
       "4    Emma   28  Female   70000    Finance"
      ]
     },
     "execution_count": 11,
     "metadata": {},
     "output_type": "execute_result"
    }
   ],
   "source": [
    "#Function-5\n",
    "df.head()"
   ]
  },
  {
   "cell_type": "code",
   "execution_count": 13,
   "id": "91169584-7873-4c04-87bc-4ace6780a52b",
   "metadata": {},
   "outputs": [],
   "source": [
    "#Q2.\n",
    "\n",
    "data = {\n",
    "'A':[10,20,30,40,50],\n",
    "'B':[100,200,300,400,500],\n",
    "'C':[1000,2000,3000,4000,5000]\n",
    "}\n",
    "\n",
    "df1 = pd.DataFrame(data)"
   ]
  },
  {
   "cell_type": "code",
   "execution_count": 19,
   "id": "951b0e30-4f86-492f-962e-13066d2470ec",
   "metadata": {},
   "outputs": [
    {
     "name": "stdout",
     "output_type": "stream",
     "text": [
      "    A    B     C\n",
      "1  10  100  1000\n",
      "3  20  200  2000\n",
      "5  30  300  3000\n",
      "7  40  400  4000\n",
      "9  50  500  5000\n"
     ]
    }
   ],
   "source": [
    "def new_index(row_number):\n",
    "    return row_number * 2 + 1\n",
    "\n",
    "df1 = df1.reset_index(drop=True)\n",
    "df1.index = df1.index.to_series().apply(new_index)\n",
    "print(df1)"
   ]
  },
  {
   "cell_type": "code",
   "execution_count": 20,
   "id": "1a8d704b-a588-437d-8d4f-fdf71508b6c2",
   "metadata": {},
   "outputs": [],
   "source": [
    "#Q3.\n",
    "\n",
    "data = {\n",
    "'Values':[10,20,30,40,50]\n",
    "}\n",
    "\n",
    "df2 = pd.DataFrame(data)"
   ]
  },
  {
   "cell_type": "code",
   "execution_count": 27,
   "id": "fd21b69c-049f-42e6-b792-9fbd1dd6f956",
   "metadata": {},
   "outputs": [],
   "source": [
    "def calculate_sum_first_three(df2):\n",
    "    values_column = df2['Values']\n",
    "    sum_first_three = values_column.head(3).sum()\n",
    "    print(\"Sum of the first three values:\", sum_first_three)"
   ]
  },
  {
   "cell_type": "code",
   "execution_count": 28,
   "id": "1e39868a-3b19-469e-ad1f-9d16910e6cf7",
   "metadata": {},
   "outputs": [
    {
     "name": "stdout",
     "output_type": "stream",
     "text": [
      "Sum of the first three values: 60\n"
     ]
    }
   ],
   "source": [
    "calculate_sum_first_three(df2)"
   ]
  },
  {
   "cell_type": "code",
   "execution_count": 30,
   "id": "9e10b621-af28-47b4-870d-fcd3ed195c03",
   "metadata": {},
   "outputs": [],
   "source": [
    "#Q4.\n",
    "\n",
    "data = {\n",
    "'Text':['This is a sample text','Another Example','A third sentence']\n",
    "}\n",
    "\n",
    "df3 = pd.DataFrame(data)"
   ]
  },
  {
   "cell_type": "code",
   "execution_count": 36,
   "id": "08bea23d-fb67-4314-b003-5c5d578bd630",
   "metadata": {},
   "outputs": [],
   "source": [
    "def add_word_count_column(df3):\n",
    "    df3['Word Count'] = df3['Text'].apply(lambda text : len(text.split()))\n",
    "    return df3"
   ]
  },
  {
   "cell_type": "code",
   "execution_count": 37,
   "id": "89ab5582-9c89-43b7-9f6a-8066a16331c9",
   "metadata": {},
   "outputs": [
    {
     "name": "stdout",
     "output_type": "stream",
     "text": [
      "                    Text  Word Count\n",
      "0  This is a sample text           5\n",
      "1        Another Example           2\n",
      "2       A third sentence           3\n"
     ]
    }
   ],
   "source": [
    "df3_with_word_count = add_word_count_column(df3)\n",
    "print(df3_with_word_count)"
   ]
  },
  {
   "cell_type": "code",
   "execution_count": 41,
   "id": "7ccb7f75-f917-4809-8c1a-34473252846a",
   "metadata": {},
   "outputs": [],
   "source": [
    "#Q5.\n",
    "\n",
    "#1. 'DataFrame.size' \n",
    "# Returns the total number of elements in the DataFrame.\n",
    "# It multiples rows with columns and gives the o/p.\n",
    "\n",
    "#2. 'DataFrame.shape'\n",
    "# Returns a tuple representing the dimensions of the DataFrame as (rows,columns)\n",
    "# shape[0] represents the number of rows.\n",
    "# shape[1] represents the number of columns.\n",
    "\n"
   ]
  },
  {
   "cell_type": "code",
   "execution_count": 42,
   "id": "f8d85c22-1aaf-4c99-8003-7015f5796d77",
   "metadata": {},
   "outputs": [],
   "source": [
    "#Q6.\n",
    "\n",
    "#df = pd.read_excel('filename.xlsx')"
   ]
  },
  {
   "cell_type": "code",
   "execution_count": 8,
   "id": "16a38f71-e6a7-41df-aaa6-95013bfd7367",
   "metadata": {},
   "outputs": [
    {
     "name": "stdout",
     "output_type": "stream",
     "text": [
      "                      Email      Username\n",
      "0      john.doe@example.com      john.doe\n",
      "1    jane.smith@example.com    jane.smith\n",
      "2  mark.johnson@example.com  mark.johnson\n"
     ]
    }
   ],
   "source": [
    "#Q7.\n",
    "\n",
    "import pandas as pd\n",
    "\n",
    "data = {\n",
    "'Email':['john.doe@example.com','jane.smith@example.com','mark.johnson@example.com']\n",
    "}\n",
    "\n",
    "df4 = pd.DataFrame(data)\n",
    "\n",
    "def extract_name(email):\n",
    "    return email.split('@')[0]\n",
    "\n",
    "df4['Username'] = df4['Email'].apply(extract_name)\n",
    "\n",
    "print(df4)"
   ]
  },
  {
   "cell_type": "code",
   "execution_count": 10,
   "id": "3bba10f8-13aa-4553-8084-37c65fff5e71",
   "metadata": {},
   "outputs": [],
   "source": [
    "#Q8.\n",
    "\n",
    "data = {\n",
    "'A':[3,8,6,2,9],\n",
    "'B':[5,2,9,3,1],\n",
    "'C':[1,7,4,5,2]\n",
    "}\n",
    "\n",
    "df5 = pd.DataFrame(data)"
   ]
  },
  {
   "cell_type": "code",
   "execution_count": 12,
   "id": "9d846144-65e4-4ebf-8565-2660bf253f8d",
   "metadata": {},
   "outputs": [
    {
     "name": "stdout",
     "output_type": "stream",
     "text": [
      "   A  B  C\n",
      "1  8  2  7\n",
      "2  6  9  4\n",
      "4  9  1  2\n"
     ]
    }
   ],
   "source": [
    "def select_rows(df5):\n",
    "    selected_rows = df5[(df5['A'] > 5) & (df5['B'] < 10)]\n",
    "    return selected_rows\n",
    "\n",
    "selected_df = select_rows(df5)\n",
    "print(selected_df)"
   ]
  },
  {
   "cell_type": "code",
   "execution_count": 13,
   "id": "f9b2da9f-2773-4a04-becf-760ab1a98d8e",
   "metadata": {},
   "outputs": [],
   "source": [
    "#Q9.\n",
    "\n",
    "data = {\n",
    "'Values':[10, 20, 30, 40, 50]\n",
    "}\n",
    "\n",
    "df6 = pd.DataFrame(data)"
   ]
  },
  {
   "cell_type": "code",
   "execution_count": 14,
   "id": "c97f6897-1180-4900-a653-1f1a9200ab99",
   "metadata": {},
   "outputs": [
    {
     "name": "stdout",
     "output_type": "stream",
     "text": [
      "Mean: 30.0\n",
      "Median 30.0\n",
      "Standard Deviation 15.811388300841896\n"
     ]
    }
   ],
   "source": [
    "def calculate_stats(df6):\n",
    "    mean_value = df6['Values'].mean()\n",
    "    median_value = df6['Values'].median()\n",
    "    std_value = df6['Values'].std()\n",
    "    \n",
    "    return mean_value, median_value, std_value\n",
    "\n",
    "mean, median, std = calculate_stats(df6)\n",
    "\n",
    "print(\"Mean:\", mean)\n",
    "print(\"Median\", median)\n",
    "print(\"Standard Deviation\", std)"
   ]
  },
  {
   "cell_type": "code",
   "execution_count": 16,
   "id": "8fec8670-bc10-494b-91d8-14040b3cc4aa",
   "metadata": {},
   "outputs": [],
   "source": [
    "#Q10.\n",
    "\n",
    "data = {\n",
    "'Sales':[100, 150, 200, 120, 180, 160, 220, 250, 190, 230, 210, 270, 240, 280],\n",
    "'Date': pd.date_range(start='2023-08-17', periods=14)\n",
    "}\n",
    "\n",
    "df7 = pd.DataFrame(data)"
   ]
  },
  {
   "cell_type": "code",
   "execution_count": 20,
   "id": "0c107df1-32ed-4a3c-85ac-73ff46f95e38",
   "metadata": {},
   "outputs": [
    {
     "name": "stdout",
     "output_type": "stream",
     "text": [
      "    Sales       Date  Moving Average\n",
      "0     100 2023-08-17      100.000000\n",
      "1     150 2023-08-18      125.000000\n",
      "2     200 2023-08-19      150.000000\n",
      "3     120 2023-08-20      142.500000\n",
      "4     180 2023-08-21      150.000000\n",
      "5     160 2023-08-22      151.666667\n",
      "6     220 2023-08-23      161.428571\n",
      "7     250 2023-08-24      182.857143\n",
      "8     190 2023-08-25      188.571429\n",
      "9     230 2023-08-26      192.857143\n",
      "10    210 2023-08-27      205.714286\n",
      "11    270 2023-08-28      218.571429\n",
      "12    240 2023-08-29      230.000000\n",
      "13    280 2023-08-30      238.571429\n"
     ]
    }
   ],
   "source": [
    "def calculate_moving_average(df7):\n",
    "    df7['Moving Average'] = df7['Sales'].rolling(window=7, min_periods=1).mean()\n",
    "    \n",
    "calculate_moving_average(df7)\n",
    "\n",
    "print(df7)"
   ]
  },
  {
   "cell_type": "code",
   "execution_count": 21,
   "id": "471580f0-a6cb-49d1-9367-782ca499bd45",
   "metadata": {},
   "outputs": [],
   "source": [
    "#Q11.\n",
    "\n",
    "data ={\n",
    "'Date':['2023-01-01', '2023-01-02', '2023-01-03', '2023-01-04', '2023-01-05']\n",
    "}\n",
    "\n",
    "df8 = pd.DataFrame(data)"
   ]
  },
  {
   "cell_type": "code",
   "execution_count": 25,
   "id": "3ba209be-2f97-46f8-ab8e-e542da02786f",
   "metadata": {},
   "outputs": [
    {
     "name": "stdout",
     "output_type": "stream",
     "text": [
      "        Date    Weekday\n",
      "0 2023-01-01     Sunday\n",
      "1 2023-01-02     Monday\n",
      "2 2023-01-03    Tuesday\n",
      "3 2023-01-04  Wednesday\n",
      "4 2023-01-05   Thursday\n"
     ]
    }
   ],
   "source": [
    "def add_weekday_column(df8):\n",
    "    df8['Date'] = pd.to_datetime(df8['Date'])\n",
    "    \n",
    "    df8['Weekday'] = df8['Date'].dt.strftime('%A')\n",
    "    \n",
    "    return df8\n",
    "\n",
    "modified_df8 = add_weekday_column(df8)\n",
    "print(df8)"
   ]
  },
  {
   "cell_type": "code",
   "execution_count": 26,
   "id": "61cf5832-1c84-4f94-a6d7-328a474eb3a2",
   "metadata": {},
   "outputs": [],
   "source": [
    "#Q12.\n",
    "\n",
    "data = {\n",
    "'Date':['2023-01-01', '2023-01-15', '2023-02-10', '2023-01-20']\n",
    "}\n",
    "\n",
    "df9 = pd.DataFrame(data)"
   ]
  },
  {
   "cell_type": "code",
   "execution_count": 27,
   "id": "ca549736-b3f9-4bfc-a9da-4fe81e1b3ae0",
   "metadata": {},
   "outputs": [
    {
     "data": {
      "text/html": [
       "<div>\n",
       "<style scoped>\n",
       "    .dataframe tbody tr th:only-of-type {\n",
       "        vertical-align: middle;\n",
       "    }\n",
       "\n",
       "    .dataframe tbody tr th {\n",
       "        vertical-align: top;\n",
       "    }\n",
       "\n",
       "    .dataframe thead th {\n",
       "        text-align: right;\n",
       "    }\n",
       "</style>\n",
       "<table border=\"1\" class=\"dataframe\">\n",
       "  <thead>\n",
       "    <tr style=\"text-align: right;\">\n",
       "      <th></th>\n",
       "      <th>Date</th>\n",
       "    </tr>\n",
       "  </thead>\n",
       "  <tbody>\n",
       "    <tr>\n",
       "      <th>0</th>\n",
       "      <td>2023-01-01</td>\n",
       "    </tr>\n",
       "    <tr>\n",
       "      <th>1</th>\n",
       "      <td>2023-01-15</td>\n",
       "    </tr>\n",
       "    <tr>\n",
       "      <th>2</th>\n",
       "      <td>2023-02-10</td>\n",
       "    </tr>\n",
       "    <tr>\n",
       "      <th>3</th>\n",
       "      <td>2023-01-20</td>\n",
       "    </tr>\n",
       "  </tbody>\n",
       "</table>\n",
       "</div>"
      ],
      "text/plain": [
       "         Date\n",
       "0  2023-01-01\n",
       "1  2023-01-15\n",
       "2  2023-02-10\n",
       "3  2023-01-20"
      ]
     },
     "execution_count": 27,
     "metadata": {},
     "output_type": "execute_result"
    }
   ],
   "source": [
    "df9"
   ]
  },
  {
   "cell_type": "code",
   "execution_count": 30,
   "id": "5fc04874-d474-4268-894f-e44e7106edb8",
   "metadata": {},
   "outputs": [
    {
     "name": "stdout",
     "output_type": "stream",
     "text": [
      "        Date\n",
      "0 2023-01-01\n",
      "1 2023-01-15\n",
      "3 2023-01-20\n"
     ]
    }
   ],
   "source": [
    "def select_rows_between_dates(df9):\n",
    "    \n",
    "    df9['Date'] = pd.to_datetime(df9['Date'])\n",
    "    \n",
    "    selected_rows = df9[(df9['Date'] >= '2023-01-01') & (df9['Date'] <= '2023-01-31')]\n",
    "    return selected_rows\n",
    "\n",
    "selected_df = select_rows_between_dates(df9)\n",
    "print(selected_df)"
   ]
  },
  {
   "cell_type": "code",
   "execution_count": 31,
   "id": "1a831cdc-1dff-4293-ae58-decfc487541c",
   "metadata": {},
   "outputs": [],
   "source": [
    "#Q13.\n",
    "\n",
    "# It is the following library that needs to be imported to use the basic functions of pandas.\n",
    "\n",
    "import pandas as pd"
   ]
  },
  {
   "cell_type": "code",
   "execution_count": 32,
   "id": "18dda422-9421-438b-999d-13905c95bcff",
   "metadata": {},
   "outputs": [],
   "source": [
    "# End"
   ]
  },
  {
   "cell_type": "code",
   "execution_count": null,
   "id": "9b4e0780-56a1-4076-a80d-beea306d5403",
   "metadata": {},
   "outputs": [],
   "source": []
  }
 ],
 "metadata": {
  "kernelspec": {
   "display_name": "Python 3 (ipykernel)",
   "language": "python",
   "name": "python3"
  },
  "language_info": {
   "codemirror_mode": {
    "name": "ipython",
    "version": 3
   },
   "file_extension": ".py",
   "mimetype": "text/x-python",
   "name": "python",
   "nbconvert_exporter": "python",
   "pygments_lexer": "ipython3",
   "version": "3.10.8"
  }
 },
 "nbformat": 4,
 "nbformat_minor": 5
}
